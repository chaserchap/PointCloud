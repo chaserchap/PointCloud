{
 "cells": [
  {
   "cell_type": "code",
   "execution_count": null,
   "metadata": {},
   "outputs": [],
   "source": [
    "%matplotlib inline\n",
    "\n",
    "import matplotlib\n",
    "import matplotlib.pyplot as plt\n",
    "plt.rcParams['figure.figsize'] = [14, 6]\n",
    "from mpl_toolkits.mplot3d import Axes3D\n",
    "import numpy as np\n",
    "import pandas as pd\n",
    "import math\n",
    "pd.set_option(\"display.precision\", 2)\n",
    "import pdal\n",
    "import json\n",
    "from src.resources.resources import test_pipe, ground_pipe, count_hash, plot3d, oakland_tables\n",
    "import pprint\n",
    "from classifications import *\n",
    "from copy import deepcopy\n",
    "import os\n",
    "import glob\n",
    "import src.resources.dbutils\n",
    "from multiprocessing import Pool\n",
    "\n",
    "from creds import *\n",
    "\n",
    "pp = pprint.PrettyPrinter(indent=4)"
   ]
  },
  {
   "cell_type": "code",
   "execution_count": null,
   "metadata": {},
   "outputs": [],
   "source": []
  },
  {
   "cell_type": "code",
   "execution_count": null,
   "metadata": {},
   "outputs": [],
   "source": [
    "def run_pipe(from_table, to_table):\n",
    "    \n",
    "    db_params = {\n",
    "        \"host\": \"localhost\",\n",
    "        \"database\": \"pointclouds\",\n",
    "        \"port\": 5432,\n",
    "        \"user\": username,\n",
    "        \"password\": password\n",
    "    }\n",
    "\n",
    "    conn = dbutils.connect(db_params)\n",
    "    this_pipe = deepcopy(test_pipe)\n",
    "    reader = {\n",
    "        \"type\":\"readers.pgpointcloud\",\n",
    "        \"connection\":f\"host=127.0.0.1 dbname='pointclouds' user={username} password={password}\",\n",
    "        \"table\":from_table,\n",
    "        \"column\":\"pa\"\n",
    "    }\n",
    "\n",
    "    this_pipe[\"pipeline\"].insert(0, reader)\n",
    "    pipe = pdal.Pipeline(json.dumps(this_pipe))\n",
    "    pipe.execute()\n",
    "    \n",
    "    dbutils.execute_mogrify(conn, pd.DataFrame(pipe.arrays[0]), to_table)\n",
    "    print(f\"Added {from_table} to {to_table}.\")"
   ]
  },
  {
   "cell_type": "code",
   "execution_count": null,
   "metadata": {},
   "outputs": [],
   "source": [
    "def runPipeWrapper(from_table):\n",
    "    pool = Pool(1)\n",
    "    results = pool.map(run_pipe, [from_table])\n",
    "    pool.close()\n",
    "    pool.join()\n",
    "    return results[0]"
   ]
  },
  {
   "cell_type": "code",
   "execution_count": null,
   "metadata": {},
   "outputs": [],
   "source": [
    "tables = oakland_tables[8:]"
   ]
  },
  {
   "cell_type": "code",
   "execution_count": null,
   "metadata": {},
   "outputs": [],
   "source": [
    "\n",
    "for table in tables:\n",
    "    print(table, \" => \", runPipeWrapper(table))\n",
    "    "
   ]
  },
  {
   "cell_type": "code",
   "execution_count": null,
   "metadata": {},
   "outputs": [],
   "source": [
    "table = oakland_tables[0]\n",
    "this_pipe = deepcopy(test_pipe)\n",
    "reader = {\n",
    "    \"type\":\"readers.pgpointcloud\",\n",
    "    \"connection\":f\"host=127.0.0.1 dbname='pointclouds' user={username} password={password}\",\n",
    "    \"table\":table,\n",
    "    \"column\":\"pa\"\n",
    "}\n",
    "\n",
    "this_pipe[\"pipeline\"].insert(0, reader)\n",
    "pipe = pdal.Pipeline(json.dumps(this_pipe))\n",
    "pipe.execute()"
   ]
  },
  {
   "cell_type": "code",
   "execution_count": null,
   "metadata": {},
   "outputs": [],
   "source": [
    "test = pd.DataFrame(pipe.arrays[0])\n",
    "test.dtypes"
   ]
  },
  {
   "cell_type": "code",
   "execution_count": null,
   "metadata": {},
   "outputs": [],
   "source": [
    "str(test.dtypes[0])"
   ]
  },
  {
   "cell_type": "code",
   "execution_count": null,
   "metadata": {},
   "outputs": [],
   "source": [
    "curs = conn.cursor()\n",
    "vals = '(' + ','.join(['%s']*len(test.columns)) + ')'\n",
    "values = [curs.mogrify(vals, tup).decode('utf8') for tup in tuples]"
   ]
  },
  {
   "cell_type": "code",
   "execution_count": null,
   "metadata": {},
   "outputs": [],
   "source": [
    "values[0]"
   ]
  },
  {
   "cell_type": "code",
   "execution_count": null,
   "metadata": {},
   "outputs": [],
   "source": [
    "df = pd.DataFrame(pipe.arrays[0])\n",
    "df.head()"
   ]
  },
  {
   "cell_type": "code",
   "execution_count": null,
   "metadata": {},
   "outputs": [],
   "source": [
    "X = df[df['HeightAboveGround'] != 0][['Linearity','Planarity','Scattering','Verticality']]\n",
    "y = df[df['HeightAboveGround'] != 0]['label'].astype(int)"
   ]
  },
  {
   "cell_type": "code",
   "execution_count": null,
   "metadata": {},
   "outputs": [],
   "source": [
    "plot3d(df[df['HeightAboveGround'] == 0])"
   ]
  },
  {
   "cell_type": "code",
   "execution_count": null,
   "metadata": {},
   "outputs": [],
   "source": [
    "import xgboost as xgb"
   ]
  },
  {
   "cell_type": "code",
   "execution_count": null,
   "metadata": {},
   "outputs": [],
   "source": [
    "model = xgb.XGBClassifier(random_state=1, learning_rate=0.01)\n",
    "model.fit(X, y)"
   ]
  },
  {
   "cell_type": "code",
   "execution_count": null,
   "metadata": {},
   "outputs": [],
   "source": [
    "pipe.close"
   ]
  },
  {
   "cell_type": "code",
   "execution_count": null,
   "metadata": {},
   "outputs": [],
   "source": [
    "import joblib\n",
    "model = joblib.load(\"xgboostv1.1.dat\")"
   ]
  },
  {
   "cell_type": "code",
   "execution_count": null,
   "metadata": {},
   "outputs": [],
   "source": [
    "model"
   ]
  },
  {
   "cell_type": "code",
   "execution_count": null,
   "metadata": {},
   "outputs": [],
   "source": [
    "model.predict()"
   ]
  },
  {
   "cell_type": "code",
   "execution_count": null,
   "metadata": {},
   "outputs": [],
   "source": [
    "import psycopg2\n",
    "from src.resources.config import *\n",
    "conn_info = {\n",
    "    \"host\": \"localhost\",\n",
    "    \"port\": 5432,\n",
    "    \"database\": \"pointclouds\",\n",
    "    \"user\": username,\n",
    "    \"password\": password\n",
    "}"
   ]
  },
  {
   "cell_type": "code",
   "execution_count": null,
   "metadata": {},
   "outputs": [],
   "source": [
    "conn = psycopg2.connect(**conn_info)\n",
    "curs = conn.cursor(\"named\")"
   ]
  },
  {
   "cell_type": "code",
   "execution_count": null,
   "metadata": {},
   "outputs": [],
   "source": [
    "import pandas as pd\n",
    "cols = ['X', 'Y', 'Z', 'linearity', 'planarity', 'scattering', 'verticality']\n",
    "curs.execute(f\"SELECT {','.join(cols)} FROM ca_sandiego_2005\")\n",
    "df = pd.DataFrame(curs.fetchall(), columns=cols, dtype=float)\n",
    "curs.close()"
   ]
  },
  {
   "cell_type": "code",
   "execution_count": null,
   "metadata": {},
   "outputs": [],
   "source": [
    "curs.close()\n",
    "preds = model.predict(df[['linearity', 'planarity', 'scattering', 'verticality']].astype(float))"
   ]
  },
  {
   "cell_type": "code",
   "execution_count": null,
   "metadata": {},
   "outputs": [],
   "source": [
    "type(preds)"
   ]
  },
  {
   "cell_type": "code",
   "execution_count": null,
   "metadata": {},
   "outputs": [],
   "source": [
    "preds"
   ]
  },
  {
   "cell_type": "code",
   "execution_count": null,
   "metadata": {},
   "outputs": [],
   "source": [
    "set(preds)"
   ]
  },
  {
   "cell_type": "code",
   "execution_count": null,
   "metadata": {},
   "outputs": [],
   "source": [
    "df['label'] = preds\n",
    "poles = df[df['label']==1]"
   ]
  },
  {
   "cell_type": "code",
   "execution_count": null,
   "metadata": {},
   "outputs": [],
   "source": [
    "len(poles)"
   ]
  },
  {
   "cell_type": "code",
   "execution_count": null,
   "metadata": {},
   "outputs": [],
   "source": [
    "len(df)"
   ]
  },
  {
   "cell_type": "code",
   "execution_count": null,
   "metadata": {},
   "outputs": [],
   "source": [
    "from src.resources.resources import plot3d\n",
    "plot3d(poles)"
   ]
  },
  {
   "cell_type": "code",
   "execution_count": null,
   "metadata": {},
   "outputs": [],
   "source": []
  }
 ],
 "metadata": {
  "kernelspec": {
   "display_name": "Python 3",
   "language": "python",
   "name": "python3"
  },
  "language_info": {
   "codemirror_mode": {
    "name": "ipython",
    "version": 3
   },
   "file_extension": ".py",
   "mimetype": "text/x-python",
   "name": "python",
   "nbconvert_exporter": "python",
   "pygments_lexer": "ipython3",
   "version": "3.6.12"
  }
 },
 "nbformat": 4,
 "nbformat_minor": 4
}
