{
 "cells": [
  {
   "cell_type": "code",
   "execution_count": 1,
   "metadata": {},
   "outputs": [],
   "source": [
    "import laspy\n",
    "import glob\n",
    "from pathlib import Path\n",
    "import pandas as pd\n",
    "import numpy as np\n",
    "import json"
   ]
  },
  {
   "cell_type": "code",
   "execution_count": 2,
   "metadata": {},
   "outputs": [],
   "source": [
    "def count_hash(file):\n",
    "    file = open(file)\n",
    "    count = 0\n",
    "    for line in file:\n",
    "        if line.startswith('#'):\n",
    "            count += 1\n",
    "    return count"
   ]
  },
  {
   "cell_type": "code",
   "execution_count": 3,
   "metadata": {},
   "outputs": [],
   "source": [
    "## PDAL method\n",
    "import pdal\n",
    "files = glob.glob(\"data/*.xyz_label_conf\")\n",
    "def construct_json(infile, outfile):\n",
    "    skip_lines = count_hash(infile)\n",
    "    pipe = {\"pipeline\":[]}\n",
    "    pipe[\"pipeline\"].append(\n",
    "        {\"type\":\"readers.text\",\n",
    "         \"skip\":skip_lines,\n",
    "         \"separator\":\" \",\n",
    "         \"header\":\"x y z label conf\",\n",
    "         \"filename\": infile})\n",
    "    pipe[\"pipeline\"].append(\n",
    "        {\"type\":\"writers.las\",\n",
    "         \"filename\": outfile})\n",
    "    return json.dumps(pipe)"
   ]
  },
  {
   "cell_type": "code",
   "execution_count": 43,
   "metadata": {},
   "outputs": [
    {
     "data": {
      "text/plain": [
       "'data/las/oakland_part3_am.las'"
      ]
     },
     "execution_count": 43,
     "metadata": {},
     "output_type": "execute_result"
    }
   ],
   "source": [
    "str(Path('data/las/').joinpath(Path(files[0]).with_suffix(\".las\").name))"
   ]
  },
  {
   "cell_type": "code",
   "execution_count": 44,
   "metadata": {},
   "outputs": [
    {
     "name": "stdout",
     "output_type": "stream",
     "text": [
      "Converting data/original/oakland_part3_am.xyz_label_conf and saving at data/las/oakland_part3_am.las\n",
      "\n",
      "Converting data/original/oakland_part3_an.xyz_label_conf and saving at data/las/oakland_part3_an.las\n",
      "\n",
      "Converting data/original/oakland_part2_ac.xyz_label_conf and saving at data/las/oakland_part2_ac.las\n",
      "\n",
      "Converting data/original/oakland_part3_al.xyz_label_conf and saving at data/las/oakland_part3_al.las\n",
      "\n",
      "Converting data/original/oakland_part3_aj.xyz_label_conf and saving at data/las/oakland_part3_aj.las\n",
      "\n",
      "Converting data/original/oakland_part2_ag.xyz_label_conf and saving at data/las/oakland_part2_ag.las\n",
      "\n",
      "Converting data/original/oakland_part2_ao.xyz_label_conf and saving at data/las/oakland_part2_ao.las\n",
      "\n",
      "Converting data/original/oakland_part2_ae.xyz_label_conf and saving at data/las/oakland_part2_ae.las\n",
      "\n",
      "Converting data/original/oakland_part2_ak.xyz_label_conf and saving at data/las/oakland_part2_ak.las\n",
      "\n",
      "Converting data/original/oakland_part2_ah.xyz_label_conf and saving at data/las/oakland_part2_ah.las\n",
      "\n",
      "Converting data/original/oakland_part2_ai.xyz_label_conf and saving at data/las/oakland_part2_ai.las\n",
      "\n",
      "Converting data/original/oakland_part3_ao.xyz_label_conf and saving at data/las/oakland_part3_ao.las\n",
      "\n",
      "Converting data/original/oakland_part2_ai_new.xyz_label_conf and saving at data/las/oakland_part2_ai_new.las\n",
      "\n",
      "Converting data/original/oakland_part2_ad.xyz_label_conf and saving at data/las/oakland_part2_ad.las\n",
      "\n",
      "Converting data/original/oakland_part3_ap.xyz_label_conf and saving at data/las/oakland_part3_ap.las\n",
      "\n",
      "Converting data/original/oakland_part3_ak.xyz_label_conf and saving at data/las/oakland_part3_ak.las\n",
      "\n"
     ]
    }
   ],
   "source": [
    "for file in files:\n",
    "    outfile = str(Path('data/las/').joinpath(Path(file).with_suffix(\".las\").name))\n",
    "    print(f'Converting {file} and saving at {outfile}')\n",
    "    pipeline = pdal.Pipeline(construct_json(file, outfile))\n",
    "    hold = pipeline.execute()\n",
    "    print(pipeline.log)"
   ]
  },
  {
   "cell_type": "code",
   "execution_count": 29,
   "metadata": {},
   "outputs": [
    {
     "name": "stdout",
     "output_type": "stream",
     "text": [
      "data/original/oakland_part3_am.xyz_label_conf\n",
      "data/original/oakland_part3_an.xyz_label_conf\n",
      "data/original/oakland_part2_ac.xyz_label_conf\n",
      "data/original/oakland_part3_al.xyz_label_conf\n",
      "data/original/oakland_part3_aj.xyz_label_conf\n",
      "data/original/oakland_part2_ag.xyz_label_conf\n",
      "data/original/oakland_part2_ao.xyz_label_conf\n",
      "data/original/oakland_part2_ae.xyz_label_conf\n",
      "data/original/oakland_part2_ak.xyz_label_conf\n",
      "data/original/oakland_part2_ah.xyz_label_conf\n",
      "data/original/oakland_part2_ai.xyz_label_conf\n",
      "data/original/oakland_part3_ao.xyz_label_conf\n",
      "data/original/oakland_part2_ai_new.xyz_label_conf\n",
      "data/original/oakland_part2_ad.xyz_label_conf\n",
      "data/original/oakland_part3_ap.xyz_label_conf\n",
      "data/original/oakland_part3_ak.xyz_label_conf\n"
     ]
    }
   ],
   "source": [
    "## First way I did this...PDAL method is better.\n",
    "files = glob.glob(\"data/original/*.xyz_label_conf\")\n",
    "bad_files = []\n",
    "for file in files:\n",
    "    try:\n",
    "        print(file)\n",
    "        new_file = Path(file.split('.')[0]+'.las')\n",
    "        outfile_temp = Path.cwd().joinpath(\"data/las/\" + str(new_file.name))\n",
    "        outfile_hdr = laspy.header.Header()\n",
    "        outfile = laspy.file.File(outfile_temp, mode='w', header=outfile_hdr)\n",
    "        df = pd.read_csv(file, \n",
    "                     names=['x','y','z','label','conf'],\n",
    "                     delimiter = ' ',\n",
    "                     skiprows=63)\n",
    "        outfile.header.max = [max(df['x']), max(df['y']), max(df['z'])]\n",
    "        minx = min(df['x'])\n",
    "        miny = min(df['y'])\n",
    "        minz = min(df['z'])\n",
    "        outfile.header.min = [minx, miny, minz]\n",
    "        outfile.header.offset = [0., 0., 0.]\n",
    "        outfile.header.scale = [.01, .01, .01] \n",
    "        df['x'] = df['x']*100\n",
    "        df['y'] = df['y']*100\n",
    "        df['z'] = df['z']*100\n",
    "        df = df.astype('int64')\n",
    "        outfile.return_num = np.ones(len(df['x'])).astype(np.uint8)\n",
    "        outfile.X = df['x']\n",
    "        outfile.Y = df['y']\n",
    "        outfile.Z = df['z']\n",
    "        #outfile.return_num = np.ones(len(df['x']))\n",
    "        #outfile.num_returns = np.ones(len(df['x']))\n",
    "        outfile.close()\n",
    "    except:\n",
    "        bad_files.append(file)"
   ]
  },
  {
   "cell_type": "code",
   "execution_count": 12,
   "metadata": {},
   "outputs": [
    {
     "data": {
      "text/plain": [
       "['data/original/oakland_part3_al.xyz_label_conf',\n",
       " 'data/original/oakland_part3_aj.xyz_label_conf']"
      ]
     },
     "execution_count": 12,
     "metadata": {},
     "output_type": "execute_result"
    }
   ],
   "source": [
    "bad_files"
   ]
  },
  {
   "cell_type": "code",
   "execution_count": null,
   "metadata": {},
   "outputs": [],
   "source": []
  }
 ],
 "metadata": {
  "kernelspec": {
   "display_name": "Python 3",
   "language": "python",
   "name": "python3"
  },
  "language_info": {
   "codemirror_mode": {
    "name": "ipython",
    "version": 3
   },
   "file_extension": ".py",
   "mimetype": "text/x-python",
   "name": "python",
   "nbconvert_exporter": "python",
   "pygments_lexer": "ipython3",
   "version": "3.6.12"
  }
 },
 "nbformat": 4,
 "nbformat_minor": 4
}
