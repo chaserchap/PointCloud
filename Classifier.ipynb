{
 "cells": [
  {
   "cell_type": "code",
   "execution_count": 2,
   "metadata": {},
   "outputs": [],
   "source": [
    "from PointCloud import PointCloud\n",
    "from resources import *\n",
    "from pc_tools import *\n",
    "import glob\n",
    "import gc\n",
    "from pathlib import Path"
   ]
  },
  {
   "cell_type": "code",
   "execution_count": 3,
   "metadata": {},
   "outputs": [
    {
     "data": {
      "text/plain": [
       "['data/las/oakland_part2_ai.las']"
      ]
     },
     "execution_count": 3,
     "metadata": {},
     "output_type": "execute_result"
    }
   ],
   "source": [
    "files = glob.glob('data/las/*_ai.las')\n",
    "files"
   ]
  },
  {
   "cell_type": "code",
   "execution_count": 11,
   "metadata": {},
   "outputs": [
    {
     "name": "stdout",
     "output_type": "stream",
     "text": [
      "data/las/oakland_part2_ai.las\n",
      "928\n",
      "Found 1 clusters in the data. With 0 noise points.\n",
      "Found 1 clusters in the data. With 0 noise points.\n",
      "Possible poles is empty.\n"
     ]
    }
   ],
   "source": [
    "file = files[0]\n",
    "just_poles = True\n",
    "pc = PointCloud(file, json_pipeline=test_pipe)\n",
    "print(pc.infile)\n",
    "pc.unassign_classification(8)\n",
    "pc.find_elevated_points(ht_min=10)\n",
    "print(pc.elevated_points.shape[0])\n",
    "if pc.elevated_points.size > 0:\n",
    "    powerline_info = powerlines(pc.elevated_points)\n",
    "    poss_lines = pc.elevated_points[powerline_info[:, 2]==1, 3].astype(int)\n",
    "    prob_lines = pc.elevated_points[powerline_info[:, 2]==2, 3].astype(int)\n",
    "    poss_poles = pc.elevated_points[powerline_info[:, 1] != -1, 3].astype(int)\n",
    "    pc.classification = (poss_lines, 60)\n",
    "    pc.classification = (prob_lines, 60)\n",
    "    pc.classification = (poss_poles, 30)\n",
    "    pc.use_adj_points = False\n",
    "\n",
    "    if just_poles:\n",
    "        if len(poss_poles)> 0:\n",
    "            outpath = Path.cwd().joinpath('data/classified').joinpath(Path(file).stem + '_poles').with_suffix('.las')\n",
    "            pc.save_las(filename=outpath, points=pc.elevated_points[powerline_info[:, 1] != -1, :3])\n",
    "        else:\n",
    "            print(\"Possible poles is empty.\")\n",
    "    else:\n",
    "        Print(\"Found {0} possible poles and {1} possible lines.\".format(poss_poles, poss_lines))\n",
    "        outpath = Path.cwd().joinpath('data/classified').joinpath(Path(file).stem + '_classified').with_suffix('.las')\n",
    "        pc.save_las(filename=outpath)\n"
   ]
  },
  {
   "cell_type": "code",
   "execution_count": null,
   "metadata": {},
   "outputs": [],
   "source": [
    "len(poss_poles)"
   ]
  },
  {
   "cell_type": "code",
   "execution_count": null,
   "metadata": {},
   "outputs": [],
   "source": [
    "pc.find_elevated_points(ht_min=10)"
   ]
  },
  {
   "cell_type": "code",
   "execution_count": null,
   "metadata": {},
   "outputs": [],
   "source": [
    "powerline_info = powerlines(pc.elevated_points)"
   ]
  },
  {
   "cell_type": "code",
   "execution_count": null,
   "metadata": {},
   "outputs": [],
   "source": [
    "poss_lines = pc.elevated_points[powerline_info[:, 2]==1, 3].astype(int)\n",
    "prob_lines = pc.elevated_points[powerline_info[:, 2]==2, 3].astype(int)\n",
    "poss_poles = pc.elevated_points[powerline_info[:, 1] != -1, 3].astype(int)"
   ]
  },
  {
   "cell_type": "code",
   "execution_count": null,
   "metadata": {},
   "outputs": [],
   "source": [
    "pc.classification = (poss_lines, 60)\n",
    "pc.classification = (prob_lines, 60)\n",
    "pc.classification = (poss_poles, 30)\n",
    "pc.use_adj_points = False\n",
    "pc.save_las(filename=\"data/oakland_part2_ac_classified.las\")"
   ]
  },
  {
   "cell_type": "code",
   "execution_count": null,
   "metadata": {},
   "outputs": [],
   "source": [
    "pc.laspy_header.scale = [1., 1., 1.]"
   ]
  },
  {
   "cell_type": "code",
   "execution_count": null,
   "metadata": {},
   "outputs": [],
   "source": [
    "poss_lines"
   ]
  },
  {
   "cell_type": "code",
   "execution_count": null,
   "metadata": {},
   "outputs": [],
   "source": [
    "pc.elevated_points.size"
   ]
  },
  {
   "cell_type": "code",
   "execution_count": null,
   "metadata": {},
   "outputs": [],
   "source": [
    "print(file, outpath)"
   ]
  },
  {
   "cell_type": "code",
   "execution_count": 5,
   "metadata": {},
   "outputs": [],
   "source": [
    "test = pc.arrays"
   ]
  },
  {
   "cell_type": "code",
   "execution_count": 6,
   "metadata": {},
   "outputs": [
    {
     "data": {
      "text/plain": [
       "array([(-429.92, -195.4 ,  -2.01, 0, 1, 1, 0, 0, 1, 0., 0, 0, 0., 0, 0, 0, 1, 0.17287932, 0.46889512, 0.35822557, 0.42139445, 10.23, 0.00149305, 0.01382529, 0.03122431,  0.03618409,  0.21327591, 9.76321718e-01, 0.03207908),\n",
       "       (-429.96, -195.46,  -1.91, 0, 1, 1, 0, 0, 1, 0., 0, 0, 0., 0, 0, 0, 1, 0.17287932, 0.46889512, 0.35822557, 0.42139445, 10.32, 0.00159447, 0.01331045, 0.02843184,  0.07406669,  0.19663403, 9.77675398e-01, 0.03679254),\n",
       "       (-429.97, -195.33,  -2.05, 0, 1, 1, 0, 0, 1, 0., 0, 0, 0., 0, 0, 0, 1, 0.17287932, 0.46889512, 0.35822557, 0.42139445, 10.19, 0.00138992, 0.01821172, 0.02536674,  0.00546779,  0.19477742, 9.80832229e-01, 0.03090885),\n",
       "       ...,\n",
       "       (-424.56, -192.86, -11.05, 0, 1, 1, 0, 0, 1, 0., 0, 0, 0., 0, 0, 0, 1, 0.82328584, 0.09676401, 0.07995015, 0.96642567,  1.13, 0.00039007, 0.00895326, 0.06682431, -0.80119734,  0.59817642, 1.63646786e-02, 0.00512125),\n",
       "       (-424.56, -192.86, -11.21, 0, 1, 1, 0, 0, 1, 0., 0, 0, 0., 0, 0, 0, 1, 0.61838473, 0.27217277, 0.1094425 , 0.79034989,  0.97, 0.00053353, 0.00437429, 0.07168703,  0.87153506, -0.49033318, 1.33171080e-04, 0.00696558),\n",
       "       (-424.55, -192.88, -10.89, 0, 1, 1, 0, 0, 1, 0., 0, 0, 0., 0, 0, 0, 1, 0.82328584, 0.09676401, 0.07995015, 0.96642567,  1.29, 0.0006378 , 0.02544724, 0.05792525, -0.70174085,  0.71096435, 4.57108117e-02, 0.00759196)],\n",
       "      dtype=[('X', '<f8'), ('Y', '<f8'), ('Z', '<f8'), ('Intensity', '<u2'), ('ReturnNumber', 'u1'), ('NumberOfReturns', 'u1'), ('ScanDirectionFlag', 'u1'), ('EdgeOfFlightLine', 'u1'), ('Classification', 'u1'), ('ScanAngleRank', '<f4'), ('UserData', 'u1'), ('PointSourceId', '<u2'), ('GpsTime', '<f8'), ('Red', '<u2'), ('Green', '<u2'), ('Blue', '<u2'), ('ClusterID', '<i8'), ('Linearity', '<f8'), ('Planarity', '<f8'), ('Scattering', '<f8'), ('Verticality', '<f8'), ('HeightAboveGround', '<f8'), ('Eigenvalue0', '<f8'), ('Eigenvalue1', '<f8'), ('Eigenvalue2', '<f8'), ('NormalX', '<f8'), ('NormalY', '<f8'), ('NormalZ', '<f8'), ('Curvature', '<f8')])"
      ]
     },
     "execution_count": 6,
     "metadata": {},
     "output_type": "execute_result"
    }
   ],
   "source": [
    "test"
   ]
  },
  {
   "cell_type": "code",
   "execution_count": 7,
   "metadata": {},
   "outputs": [
    {
     "ename": "AttributeError",
     "evalue": "'numpy.ndarray' object has no attribute 'HeightAboveGround'",
     "output_type": "error",
     "traceback": [
      "\u001b[0;31m---------------------------------------------------------------------------\u001b[0m",
      "\u001b[0;31mAttributeError\u001b[0m                            Traceback (most recent call last)",
      "\u001b[0;32m<ipython-input-7-fab6ea7f986b>\u001b[0m in \u001b[0;36m<module>\u001b[0;34m\u001b[0m\n\u001b[0;32m----> 1\u001b[0;31m \u001b[0mtest\u001b[0m\u001b[0;34m.\u001b[0m\u001b[0mHeightAboveGround\u001b[0m\u001b[0;34m\u001b[0m\u001b[0;34m\u001b[0m\u001b[0m\n\u001b[0m",
      "\u001b[0;31mAttributeError\u001b[0m: 'numpy.ndarray' object has no attribute 'HeightAboveGround'"
     ]
    }
   ],
   "source": [
    "test.HeightAboveGround"
   ]
  },
  {
   "cell_type": "code",
   "execution_count": 8,
   "metadata": {},
   "outputs": [
    {
     "data": {
      "text/plain": [
       "array([10.23, 10.32, 10.19, ...,  1.13,  0.97,  1.29])"
      ]
     },
     "execution_count": 8,
     "metadata": {},
     "output_type": "execute_result"
    }
   ],
   "source": [
    "test['HeightAboveGround']"
   ]
  },
  {
   "cell_type": "code",
   "execution_count": 9,
   "metadata": {},
   "outputs": [
    {
     "data": {
      "text/plain": [
       "20.46"
      ]
     },
     "execution_count": 9,
     "metadata": {},
     "output_type": "execute_result"
    }
   ],
   "source": [
    "max(test['HeightAboveGround'])"
   ]
  },
  {
   "cell_type": "code",
   "execution_count": null,
   "metadata": {},
   "outputs": [],
   "source": []
  }
 ],
 "metadata": {
  "kernelspec": {
   "display_name": "Python 3",
   "language": "python",
   "name": "python3"
  },
  "language_info": {
   "codemirror_mode": {
    "name": "ipython",
    "version": 3
   },
   "file_extension": ".py",
   "mimetype": "text/x-python",
   "name": "python",
   "nbconvert_exporter": "python",
   "pygments_lexer": "ipython3",
   "version": "3.6.12"
  }
 },
 "nbformat": 4,
 "nbformat_minor": 4
}
