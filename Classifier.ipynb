{
 "cells": [
  {
   "cell_type": "code",
   "execution_count": 1,
   "metadata": {},
   "outputs": [],
   "source": [
    "from PointCloud import PointCloud\n",
    "from resources import *\n",
    "from pc_tools import *\n",
    "import glob\n",
    "import gc"
   ]
  },
  {
   "cell_type": "code",
   "execution_count": 2,
   "metadata": {},
   "outputs": [],
   "source": [
    "files = glob.glob('data/las/*.las')"
   ]
  },
  {
   "cell_type": "code",
   "execution_count": 16,
   "metadata": {},
   "outputs": [
    {
     "name": "stdout",
     "output_type": "stream",
     "text": [
      "data/las/oakland_part2_ad.las\n",
      "Found 1 clusters in the data. With 0 noise points.\n",
      "Found 1 clusters in the data. With 0 noise points.\n",
      "data/las/oakland_part2_ac.las\n",
      "Found 1 clusters in the data. With 0 noise points.\n",
      "Found 1 clusters in the data. With 0 noise points.\n",
      "data/las/oakland_part3_ap.las\n",
      "Found 1 clusters in the data. With 0 noise points.\n",
      "Found 1 clusters in the data. With 0 noise points.\n",
      "data/las/oakland_part2_ah.las\n",
      "Found 1 clusters in the data. With 0 noise points.\n",
      "Found 1 clusters in the data. With 0 noise points.\n",
      "data/las/oakland_part2_ak.las\n",
      "Found 1 clusters in the data. With 0 noise points.\n",
      "Found 1 clusters in the data. With 0 noise points.\n",
      "data/las/oakland_part3_aj.las\n",
      "Found 1 clusters in the data. With 0 noise points.\n",
      "Found 1 clusters in the data. With 0 noise points.\n",
      "data/las/oakland_part2_ag.las\n",
      "Found 1 clusters in the data. With 0 noise points.\n",
      "Found 1 clusters in the data. With 0 noise points.\n",
      "data/las/oakland_part3_an.las\n",
      "Found 1 clusters in the data. With 0 noise points.\n",
      "Found 1 clusters in the data. With 0 noise points.\n",
      "data/las/oakland_part2_ae.las\n",
      "Found 1 clusters in the data. With 0 noise points.\n",
      "Found 1 clusters in the data. With 0 noise points.\n",
      "data/las/oakland_part3_al.las\n",
      "Found 1 clusters in the data. With 0 noise points.\n",
      "Found 1 clusters in the data. With 0 noise points.\n"
     ]
    },
    {
     "name": "stderr",
     "output_type": "stream",
     "text": [
      "/home/chase/PycharmProjects/PointCloud/envs/lib/python3.6/site-packages/laspy/base.py:1440: RuntimeWarning: divide by zero encountered in true_divide\n",
      "  self.set_dimension(\"X\", np.round((X - self.header.offset[0])/self.header.scale[0]))\n",
      "/home/chase/PycharmProjects/PointCloud/envs/lib/python3.6/site-packages/laspy/base.py:1448: RuntimeWarning: divide by zero encountered in true_divide\n",
      "  self.set_dimension(\"Y\", np.round((Y - self.header.offset[1])/self.header.scale[1]))\n",
      "/home/chase/PycharmProjects/PointCloud/envs/lib/python3.6/site-packages/laspy/base.py:1456: RuntimeWarning: divide by zero encountered in true_divide\n",
      "  self.set_dimension(\"Z\", np.round((Z-self.header.offset[2])/self.header.scale[2]))\n"
     ]
    },
    {
     "name": "stdout",
     "output_type": "stream",
     "text": [
      "data/las/oakland_part3_ak.las\n",
      "Found 1 clusters in the data. With 0 noise points.\n",
      "Found 1 clusters in the data. With 0 noise points.\n",
      "data/las/oakland_part2_ao.las\n",
      "Found 1 clusters in the data. With 0 noise points.\n",
      "Found 1 clusters in the data. With 0 noise points.\n",
      "data/las/oakland_part2_aj.las\n",
      "Found 1 clusters in the data. With 0 noise points.\n",
      "Found 1 clusters in the data. With 0 noise points.\n",
      "data/las/oakland_part2_al.las\n",
      "Found 1 clusters in the data. With 0 noise points.\n",
      "Found 1 clusters in the data. With 0 noise points.\n",
      "data/las/oakland_part2_ai.las\n",
      "Found 1 clusters in the data. With 0 noise points.\n",
      "Found 1 clusters in the data. With 0 noise points.\n",
      "data/las/oakland_part3_am.las\n",
      "Found 1 clusters in the data. With 0 noise points.\n",
      "Found 1 clusters in the data. With 0 noise points.\n"
     ]
    }
   ],
   "source": [
    "for file in files:\n",
    "    outpath = Path.cwd().joinpath('data/classified').joinpath(Path(file).stem + '_poles').with_suffix('.las')\n",
    "    pc = PointCloud(file, json_pipeline=test_pipe)\n",
    "    print(pc.infile)\n",
    "    pc.unassign_classification(8)\n",
    "    pc.find_elevated_points(ht_min=20)\n",
    "    powerline_info = powerlines(pc.elevated_points)\n",
    "    poss_lines = pc.elevated_points[powerline_info[:, 2]==1, 3].astype(int)\n",
    "    prob_lines = pc.elevated_points[powerline_info[:, 2]==2, 3].astype(int)\n",
    "    poss_poles = pc.elevated_points[powerline_info[:, 1] != -1, 3].astype(int)\n",
    "    pc.classification = (poss_lines, 60)\n",
    "    pc.classification = (prob_lines, 60)\n",
    "    pc.classification = (poss_poles, 30)\n",
    "    pc.use_adj_points = False\n",
    "    pc.save_las(filename=outpath, points=pc.elevated_points[powerline_info[:,1] != -1, :3])"
   ]
  },
  {
   "cell_type": "code",
   "execution_count": 15,
   "metadata": {},
   "outputs": [
    {
     "data": {
      "text/plain": [
       "PosixPath('/home/chase/PycharmProjects/PointCloud/data/classified/oakland_part2_ad_classified.las')"
      ]
     },
     "execution_count": 15,
     "metadata": {},
     "output_type": "execute_result"
    }
   ],
   "source": [
    "Path.cwd().joinpath('data/classified').joinpath(Path(files[0]).stem + '_classified').with_suffix('.las')"
   ]
  },
  {
   "cell_type": "code",
   "execution_count": null,
   "metadata": {},
   "outputs": [],
   "source": [
    "pc.find_elevated_points(ht_min=10)"
   ]
  },
  {
   "cell_type": "code",
   "execution_count": null,
   "metadata": {},
   "outputs": [],
   "source": [
    "powerline_info = powerlines(pc.elevated_points)"
   ]
  },
  {
   "cell_type": "code",
   "execution_count": null,
   "metadata": {},
   "outputs": [],
   "source": [
    "poss_lines = pc.elevated_points[powerline_info[:, 2]==1, 3].astype(int)\n",
    "prob_lines = pc.elevated_points[powerline_info[:, 2]==2, 3].astype(int)\n",
    "poss_poles = pc.elevated_points[powerline_info[:, 1] != -1, 3].astype(int)"
   ]
  },
  {
   "cell_type": "code",
   "execution_count": null,
   "metadata": {},
   "outputs": [],
   "source": [
    "pc.classification = (poss_lines, 60)\n",
    "pc.classification = (prob_lines, 60)\n",
    "pc.classification = (poss_poles, 30)\n",
    "pc.use_adj_points = False\n",
    "pc.save_las(filename=\"data/oakland_part2_ac_classified.las\")"
   ]
  },
  {
   "cell_type": "code",
   "execution_count": null,
   "metadata": {},
   "outputs": [],
   "source": [
    "pc.laspy_header.scale = [1., 1., 1.]"
   ]
  },
  {
   "cell_type": "code",
   "execution_count": null,
   "metadata": {},
   "outputs": [],
   "source": [
    "poss_lines"
   ]
  },
  {
   "cell_type": "code",
   "execution_count": null,
   "metadata": {},
   "outputs": [],
   "source": []
  }
 ],
 "metadata": {
  "kernelspec": {
   "display_name": "Python 3",
   "language": "python",
   "name": "python3"
  },
  "language_info": {
   "codemirror_mode": {
    "name": "ipython",
    "version": 3
   },
   "file_extension": ".py",
   "mimetype": "text/x-python",
   "name": "python",
   "nbconvert_exporter": "python",
   "pygments_lexer": "ipython3",
   "version": "3.6.12"
  }
 },
 "nbformat": 4,
 "nbformat_minor": 4
}
