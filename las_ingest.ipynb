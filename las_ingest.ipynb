{
 "cells": [
  {
   "cell_type": "code",
   "execution_count": null,
   "metadata": {},
   "outputs": [],
   "source": [
    "from pdal import Pipeline\n",
    "import json\n",
    "from src.resources.config import *"
   ]
  },
  {
   "cell_type": "code",
   "execution_count": null,
   "metadata": {},
   "outputs": [],
   "source": [
    "def ingest_data(las_file, tablename=None):\n",
    "    if tablename is None:\n",
    "        tablename = las_file.split('/')[-1].split('.')[0]\n",
    "        \n",
    "    pipe = {'pipeline':[\n",
    "        {'type':'readers.las',\n",
    "        'filename':las_file},\n",
    "        {\"type\":\"filters.chipper\",\n",
    "        \"capacity\":400},\n",
    "        {\"type\":\"writers.pgpointcloud\",\n",
    "        \"connection\":f\"host='127.0.0.1' dbname='pointclouds' user={username} password={password}\",\n",
    "        \"table\":tablename,\n",
    "        \"overwrite\":True}\n",
    "    ]}\n",
    "    \n",
    "    pipeline = Pipeline(json.dumps(pipe))\n",
    "    pipeline.execute()\n",
    "    "
   ]
  },
  {
   "cell_type": "code",
   "execution_count": null,
   "metadata": {},
   "outputs": [],
   "source": [
    "ingest_data('/media/sf_RECON/USGS Lidar/CA_SanDiego_2005_000386.las', tablename='test_data')"
   ]
  },
  {
   "cell_type": "code",
   "execution_count": 1,
   "metadata": {},
   "outputs": [
    {
     "name": "stdout",
     "output_type": "stream",
     "text": [
      "Connecting to the PostgreSQL database...\n",
      "Connection successful\n",
      "Connected to database 'pointclouds'.\n",
      "Executing pdal pipeline.\n",
      "pdal pipeline completed successfully.\n",
      "Added test_data to test_data_prepped.\n"
     ]
    }
   ],
   "source": [
    "from src.data_preprocess import run_pipe\n",
    "\n",
    "run_pipe('test_data', 'test_data_prepped')"
   ]
  },
  {
   "cell_type": "code",
   "execution_count": null,
   "metadata": {},
   "outputs": [],
   "source": []
  }
 ],
 "metadata": {
  "kernelspec": {
   "display_name": "Python 3",
   "language": "python",
   "name": "python3"
  },
  "language_info": {
   "codemirror_mode": {
    "name": "ipython",
    "version": 3
   },
   "file_extension": ".py",
   "mimetype": "text/x-python",
   "name": "python",
   "nbconvert_exporter": "python",
   "pygments_lexer": "ipython3",
   "version": "3.6.12"
  }
 },
 "nbformat": 4,
 "nbformat_minor": 4
}
