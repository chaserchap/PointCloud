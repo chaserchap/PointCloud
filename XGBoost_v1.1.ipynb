{
 "cells": [
  {
   "cell_type": "code",
   "execution_count": 4,
   "metadata": {},
   "outputs": [],
   "source": [
    "import psycopg2\n",
    "from creds import *\n",
    "import pandas as pd\n",
    "import numpy as np\n",
    "import sklearn\n",
    "from sklearn.model_selection import train_test_split\n",
    "from sklearn.metrics import mean_squared_error\n",
    "import xgboost as xgb\n",
    "from src.resources.resources import test_pipe, count_hash\n",
    "import json\n",
    "from sklearn.model_selection import cross_val_score, RepeatedStratifiedKFold, GridSearchCV"
   ]
  },
  {
   "cell_type": "code",
   "execution_count": 5,
   "metadata": {},
   "outputs": [],
   "source": [
    "conn_info = {\n",
    "    \"host\": \"localhost\",\n",
    "    \"port\": 5432,\n",
    "    \"database\": \"pointclouds\",\n",
    "    \"user\": username,\n",
    "    \"password\": password\n",
    "}\n",
    "\n",
    "conn = psycopg2.connect(**conn_info)\n",
    "curs = conn.cursor(\"named\")"
   ]
  },
  {
   "cell_type": "code",
   "execution_count": 6,
   "metadata": {},
   "outputs": [],
   "source": [
    "cols = ['label', 'linearity', 'planarity', 'scattering', 'verticality']\n",
    "curs.execute(f\"SELECT {','.join(cols)} FROM oakland_points\")"
   ]
  },
  {
   "cell_type": "code",
   "execution_count": 7,
   "metadata": {},
   "outputs": [
    {
     "data": {
      "text/html": [
       "<div>\n",
       "<style scoped>\n",
       "    .dataframe tbody tr th:only-of-type {\n",
       "        vertical-align: middle;\n",
       "    }\n",
       "\n",
       "    .dataframe tbody tr th {\n",
       "        vertical-align: top;\n",
       "    }\n",
       "\n",
       "    .dataframe thead th {\n",
       "        text-align: right;\n",
       "    }\n",
       "</style>\n",
       "<table border=\"1\" class=\"dataframe\">\n",
       "  <thead>\n",
       "    <tr style=\"text-align: right;\">\n",
       "      <th></th>\n",
       "      <th>label</th>\n",
       "      <th>linearity</th>\n",
       "      <th>planarity</th>\n",
       "      <th>scattering</th>\n",
       "      <th>verticality</th>\n",
       "    </tr>\n",
       "  </thead>\n",
       "  <tbody>\n",
       "    <tr>\n",
       "      <th>0</th>\n",
       "      <td>1200</td>\n",
       "      <td>0.798333</td>\n",
       "      <td>0.136767</td>\n",
       "      <td>0.0649</td>\n",
       "      <td>0.351273</td>\n",
       "    </tr>\n",
       "    <tr>\n",
       "      <th>1</th>\n",
       "      <td>1200</td>\n",
       "      <td>0.798333</td>\n",
       "      <td>0.136767</td>\n",
       "      <td>0.0649</td>\n",
       "      <td>0.351273</td>\n",
       "    </tr>\n",
       "    <tr>\n",
       "      <th>2</th>\n",
       "      <td>1200</td>\n",
       "      <td>0.798333</td>\n",
       "      <td>0.136767</td>\n",
       "      <td>0.0649</td>\n",
       "      <td>0.351273</td>\n",
       "    </tr>\n",
       "    <tr>\n",
       "      <th>3</th>\n",
       "      <td>1200</td>\n",
       "      <td>0.798333</td>\n",
       "      <td>0.136767</td>\n",
       "      <td>0.0649</td>\n",
       "      <td>0.351273</td>\n",
       "    </tr>\n",
       "    <tr>\n",
       "      <th>4</th>\n",
       "      <td>1200</td>\n",
       "      <td>0.798333</td>\n",
       "      <td>0.136767</td>\n",
       "      <td>0.0649</td>\n",
       "      <td>0.351273</td>\n",
       "    </tr>\n",
       "  </tbody>\n",
       "</table>\n",
       "</div>"
      ],
      "text/plain": [
       "   label  linearity  planarity  scattering  verticality\n",
       "0   1200   0.798333   0.136767      0.0649     0.351273\n",
       "1   1200   0.798333   0.136767      0.0649     0.351273\n",
       "2   1200   0.798333   0.136767      0.0649     0.351273\n",
       "3   1200   0.798333   0.136767      0.0649     0.351273\n",
       "4   1200   0.798333   0.136767      0.0649     0.351273"
      ]
     },
     "execution_count": 7,
     "metadata": {},
     "output_type": "execute_result"
    }
   ],
   "source": [
    "df = pd.DataFrame(curs.fetchall(), columns=cols)\n",
    "curs.close()\n",
    "\n",
    "df = df.astype({\n",
    "    'label': int,\n",
    "    'linearity': float,\n",
    "    'planarity': float,\n",
    "    'scattering': float,\n",
    "    'verticality': float\n",
    "})\n",
    "\n",
    "df.head()"
   ]
  },
  {
   "cell_type": "code",
   "execution_count": 8,
   "metadata": {},
   "outputs": [],
   "source": [
    "X = df[['linearity','planarity','scattering','verticality']]\n",
    "y = [1 if x == 1103 else 0 for x in df['label']]\n",
    "\n",
    "X_train, X_test, y_train, y_test = train_test_split(X, y, test_size=0.33, random_state=42)\n",
    "\n",
    "train_data = xgb.DMatrix(data=X_train, label=y_train)\n",
    "test_data = xgb.DMatrix(data=X_test, label=y_test)"
   ]
  },
  {
   "cell_type": "code",
   "execution_count": 9,
   "metadata": {},
   "outputs": [
    {
     "name": "stdout",
     "output_type": "stream",
     "text": [
      "218.47192666557538\n"
     ]
    }
   ],
   "source": [
    "pos_weight = (len(y) - sum(y))/sum(y)\n",
    "print(pos_weight)\n",
    "\n",
    "weights = [1,100, 150, 200, 500]\n",
    "param_grid = dict(scale_pos_weight=weights)\n",
    "\n",
    "cv = RepeatedStratifiedKFold(n_splits=10, n_repeats=3, random_state=1)\n",
    "\n",
    "model = xgb.XGBClassifier(scale_pos_weight=pos_weight)\n",
    "\n",
    "#grid = GridSearchCV(estimator=model, param_grid=param_grid, n_jobs=-1, cv=cv, scoring='roc_auc')\n",
    "\n",
    "#grid_result = grid.fit(X, y)\n",
    "\n",
    "scores = cross_val_score(model, X, y, scoring='roc_auc', cv=cv, n_jobs=-1)"
   ]
  },
  {
   "cell_type": "code",
   "execution_count": 10,
   "metadata": {},
   "outputs": [
    {
     "name": "stdout",
     "output_type": "stream",
     "text": [
      "[0.96775496 0.96625193 0.96344889 0.96284503 0.96431488 0.96557586\n",
      " 0.96353408 0.96560652 0.9617543  0.96892699 0.96351185 0.96582142\n",
      " 0.96095768 0.96171466 0.9650831  0.96738493 0.96308455 0.96547268\n",
      " 0.96279047 0.96453597 0.96373284 0.96702459 0.9641713  0.968369\n",
      " 0.96607845 0.9620562  0.96073355 0.96548048 0.96552418 0.96723771]\n"
     ]
    }
   ],
   "source": [
    "#print(\"Best: %f using %s\" % (grid_result.best_score_, grid_result.best_params_))\n",
    "print(scores)"
   ]
  },
  {
   "cell_type": "code",
   "execution_count": 11,
   "metadata": {},
   "outputs": [
    {
     "name": "stdout",
     "output_type": "stream",
     "text": [
      "Mean ROC AUC: 0.9646926345373286\n"
     ]
    }
   ],
   "source": [
    "scores = cross_val_score(model, X, y, scoring='roc_auc', cv=cv, n_jobs=-1)\n",
    "print(f'Mean ROC AUC: {np.mean(scores)}')"
   ]
  },
  {
   "cell_type": "code",
   "execution_count": 12,
   "metadata": {},
   "outputs": [
    {
     "data": {
      "text/plain": [
       "XGBClassifier(base_score=0.5, booster='gbtree', colsample_bylevel=1,\n",
       "              colsample_bynode=1, colsample_bytree=1, gamma=0, gpu_id=-1,\n",
       "              importance_type='gain', interaction_constraints='',\n",
       "              learning_rate=0.300000012, max_delta_step=0, max_depth=6,\n",
       "              min_child_weight=1, missing=nan, monotone_constraints='()',\n",
       "              n_estimators=100, n_jobs=0, num_parallel_tree=1, random_state=0,\n",
       "              reg_alpha=0, reg_lambda=1, scale_pos_weight=218.47192666557538,\n",
       "              subsample=1, tree_method='exact', validate_parameters=1,\n",
       "              verbosity=None)"
      ]
     },
     "execution_count": 12,
     "metadata": {},
     "output_type": "execute_result"
    }
   ],
   "source": [
    "model.fit(X_train, y_train)"
   ]
  },
  {
   "cell_type": "code",
   "execution_count": null,
   "metadata": {},
   "outputs": [],
   "source": [
    "from collections import Counter\n",
    "count = Counter(y)\n",
    "print(count)"
   ]
  },
  {
   "cell_type": "code",
   "execution_count": 13,
   "metadata": {},
   "outputs": [
    {
     "data": {
      "text/plain": [
       "['src/models/xgboostv1.1.dat']"
      ]
     },
     "execution_count": 13,
     "metadata": {},
     "output_type": "execute_result"
    }
   ],
   "source": [
    "import joblib\n",
    "joblib.dump(model, 'src/models/xgboostv1.1.dat')"
   ]
  },
  {
   "cell_type": "code",
   "execution_count": null,
   "metadata": {},
   "outputs": [],
   "source": []
  }
 ],
 "metadata": {
  "kernelspec": {
   "display_name": "Python 3",
   "language": "python",
   "name": "python3"
  },
  "language_info": {
   "codemirror_mode": {
    "name": "ipython",
    "version": 3
   },
   "file_extension": ".py",
   "mimetype": "text/x-python",
   "name": "python",
   "nbconvert_exporter": "python",
   "pygments_lexer": "ipython3",
   "version": "3.6.12"
  }
 },
 "nbformat": 4,
 "nbformat_minor": 4
}
