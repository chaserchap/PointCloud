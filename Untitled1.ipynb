{
 "cells": [
  {
   "cell_type": "code",
   "execution_count": 3,
   "metadata": {},
   "outputs": [],
   "source": [
    "%matplotlib inline\n",
    "\n",
    "import matplotlib\n",
    "import matplotlib.pyplot as plt\n",
    "plt.rcParams['figure.figsize'] = [14, 6]\n",
    "from mpl_toolkits.mplot3d import Axes3D\n",
    "import numpy as np\n",
    "import pandas as pd\n",
    "import math\n",
    "pd.set_option(\"display.precision\", 2)\n",
    "import pdal\n",
    "import json\n",
    "from resources import test_pipe, ground_pipe, count_hash\n",
    "import pprint\n",
    "from classifications import *\n",
    "from copy import deepcopy\n",
    "import os\n",
    "import glob\n",
    "\n",
    "pp = pprint.PrettyPrinter(indent=4)"
   ]
  },
  {
   "cell_type": "code",
   "execution_count": 28,
   "metadata": {},
   "outputs": [
    {
     "name": "stdout",
     "output_type": "stream",
     "text": [
      "oakland_part3_ao\n",
      "oakland_part3_am\n",
      "oakland_part2_ac\n",
      "oakland_part2_al\n",
      "oakland_part3_ap\n",
      "oakland_part2_ak\n",
      "oakland_part2_ad\n",
      "oakland_part2_ai\n",
      "oakland_part2_ag\n",
      "oakland_part2_aj\n",
      "oakland_part2_ae\n",
      "oakland_part3_ak\n",
      "oakland_part2_ah\n",
      "oakland_part3_an\n",
      "oakland_part2_ao\n"
     ]
    }
   ],
   "source": [
    "xyz_file = '/home/chase/PycharmProjects/PointCloud/data/oakland_part2_ai.xyz_label_conf'\n",
    "\n",
    "outpath = xyz_file.split('.')[0]\n",
    "#os.mkdir(outpath)\n",
    "outfile = outpath + '/split.las'\n",
    "\n",
    "skip_lines = count_hash(xyz_file)\n",
    "#os.system(f'pdal split --capacity 10000 {xyz_file} {outfile}')\n",
    "files = glob.glob('/home/chase/PycharmProjects/PointCloud/data/*.xyz_label_conf')\n",
    "for file in files:\n",
    "    tablename = file.split('/')[-1].split('.')[0]\n",
    "    print(tablename)\n",
    "    split_pipe = {\n",
    "        \"pipeline\": [\n",
    "            {\"type\":\"readers.text\",\n",
    "            \"filename\":file,\n",
    "            \"separator\":\" \",\n",
    "            \"skip\":skip_lines,\n",
    "            \"header\":\"x y z label conf\"},\n",
    "            {\"type\":\"filters.chipper\",\n",
    "             \"capacity\":400},\n",
    "            {\"type\":\"writers.pgpointcloud\",\n",
    "            \"connection\":\"host='127.0.0.1' dbname='pointclouds' user='chase' password='BoozAllen2020!!'\",\n",
    "            \"table\":tablename,\n",
    "            \"overwrite\":True}\n",
    "        ]\n",
    "    }\n",
    "\n",
    "    split_pipe = pdal.Pipeline(json.dumps(split_pipe))\n",
    "    split_pipe.execute()"
   ]
  },
  {
   "cell_type": "code",
   "execution_count": 1,
   "metadata": {},
   "outputs": [
    {
     "ename": "ModuleNotFoundError",
     "evalue": "No module named 'psycopg'",
     "output_type": "error",
     "traceback": [
      "\u001b[0;31m---------------------------------------------------------------------------\u001b[0m",
      "\u001b[0;31mModuleNotFoundError\u001b[0m                       Traceback (most recent call last)",
      "\u001b[0;32m<ipython-input-1-6f4857f70648>\u001b[0m in \u001b[0;36m<module>\u001b[0;34m\u001b[0m\n\u001b[0;32m----> 1\u001b[0;31m \u001b[0;32mimport\u001b[0m \u001b[0mpsycopg\u001b[0m\u001b[0;34m\u001b[0m\u001b[0;34m\u001b[0m\u001b[0m\n\u001b[0m\u001b[1;32m      2\u001b[0m \u001b[0mconn\u001b[0m \u001b[0;34m=\u001b[0m \u001b[0mpsycopg\u001b[0m\u001b[0;34m.\u001b[0m\u001b[0mconnect\u001b[0m\u001b[0;34m(\u001b[0m\u001b[0;34m\"dbname=pointclouds user=chase\"\u001b[0m\u001b[0;34m)\u001b[0m\u001b[0;34m\u001b[0m\u001b[0;34m\u001b[0m\u001b[0m\n",
      "\u001b[0;31mModuleNotFoundError\u001b[0m: No module named 'psycopg'"
     ]
    }
   ],
   "source": [
    "import psycopg\n",
    "conn = psycopg.connect(\"dbname=pointclouds user=chase\")"
   ]
  },
  {
   "cell_type": "code",
   "execution_count": null,
   "metadata": {},
   "outputs": [],
   "source": [
    "points = []\n",
    "for file in files:\n",
    "    outfile = file.split('.')[0] + '_out.las'\n",
    "    \"\"\"\n",
    "    ground_filter = deepcopy(ground_pipe)\n",
    "    ground_filter['pipeline'].insert(0, file)\n",
    "    ground_filter['pipeline'][2] = {\n",
    "        \"type\":\"filters.smrf\",\n",
    "        'cell': .3,\n",
    "        'scalar' : 1.25,\n",
    "        'slope' : .05,\n",
    "        'threshold' : 0.1,\n",
    "        'window' : 10.0}\n",
    "    \"\"\"\n",
    "    ground_filter['pipeline'][2] = {\n",
    "        \"type\":\"filters.skewnessbalancing\"}\n",
    "    \"\"\"\n",
    "    ground_filter['pipeline'][3] = {\n",
    "        \"type\":\"filters.csf\",\n",
    "        \"resolution\":1.0,\n",
    "        \"step\":6.5,\n",
    "        \"smooth\":True,\n",
    "        \"threshold\":0.5,\n",
    "        \"rigidness\":3,\n",
    "        \"iterations\":500}\n",
    "    ground_filter['pipeline'].append({\n",
    "        \"type\":\"writers.las\",\n",
    "        \"filename\":outfile\n",
    "    })\n",
    "    print(ground_filter)\n",
    "    \"\"\"\n",
    "    log_file = os.getcwd() + '/log'\n",
    "    ground_json = os.getcwd() + '/ground_filter.json'\n",
    "    run_cmd = f'pdal pipeline {ground_json} --progress {log_file} --readers.las.filename={file} --writers.las.filename={outfile}'\n",
    "    print(run_cmd)\n",
    "    os.system(run_cmd)"
   ]
  },
  {
   "cell_type": "code",
   "execution_count": 29,
   "metadata": {},
   "outputs": [],
   "source": [
    "pg_ground_pipe = {\n",
    "    \"pipeline\":[\n",
    "        {\"type\":\"readers.pgpointcloud\",\n",
    "        \"connection\":\"host=127.0.0.1 dbname='pointclouds' user='chase' password='BoozAllen2020!!'\",\n",
    "        \"table\":\"oakland_points\",\n",
    "        \"column\":\"pa\",\n",
    "        \"count\":10000},\n",
    "        {\"type\": \"filters.smrf\",\n",
    "        \"cell\": 0.1,\n",
    "        \"scalar\": 1.25,\n",
    "        \"slope\": 0.05,\n",
    "        \"threshold\": 0.1,\n",
    "        \"window\": 10.0,\n",
    "        \"ignore\": \"Classification[7:7]\"},\n",
    "        {\"type\": \"filters.csf\", \n",
    "        \"resolution\": 1.0, \n",
    "        \"step\": 6.5, \n",
    "        \"smooth\": False,\n",
    "        \"threshold\": 0.5, \n",
    "        \"rigidness\": 3, \n",
    "        \"iterations\": 500}\n",
    "    ]\n",
    "}"
   ]
  },
  {
   "cell_type": "code",
   "execution_count": 30,
   "metadata": {},
   "outputs": [],
   "source": [
    "pg_pipe = pdal.Pipeline(json.dumps(pg_ground_pipe))"
   ]
  },
  {
   "cell_type": "code",
   "execution_count": 31,
   "metadata": {},
   "outputs": [
    {
     "ename": "RuntimeError",
     "evalue": "readers.pgpointcloud: Unable to fetch pcid with column 'pa' and  table 'oakland_points'",
     "output_type": "error",
     "traceback": [
      "\u001b[0;31m---------------------------------------------------------------------------\u001b[0m",
      "\u001b[0;31mRuntimeError\u001b[0m                              Traceback (most recent call last)",
      "\u001b[0;32m<ipython-input-31-046bff5a39af>\u001b[0m in \u001b[0;36m<module>\u001b[0;34m\u001b[0m\n\u001b[0;32m----> 1\u001b[0;31m \u001b[0mpg_pipe\u001b[0m\u001b[0;34m.\u001b[0m\u001b[0mexecute\u001b[0m\u001b[0;34m(\u001b[0m\u001b[0;34m)\u001b[0m\u001b[0;34m\u001b[0m\u001b[0;34m\u001b[0m\u001b[0m\n\u001b[0m",
      "\u001b[0;32m~/PycharmProjects/PointCloud/envs/lib/python3.6/site-packages/pdal/pipeline.py\u001b[0m in \u001b[0;36mexecute\u001b[0;34m(self)\u001b[0m\n\u001b[1;32m     38\u001b[0m \u001b[0;34m\u001b[0m\u001b[0m\n\u001b[1;32m     39\u001b[0m     \u001b[0;32mdef\u001b[0m \u001b[0mexecute\u001b[0m\u001b[0;34m(\u001b[0m\u001b[0mself\u001b[0m\u001b[0;34m)\u001b[0m\u001b[0;34m:\u001b[0m\u001b[0;34m\u001b[0m\u001b[0;34m\u001b[0m\u001b[0m\n\u001b[0;32m---> 40\u001b[0;31m         \u001b[0;32mreturn\u001b[0m \u001b[0mself\u001b[0m\u001b[0;34m.\u001b[0m\u001b[0mp\u001b[0m\u001b[0;34m.\u001b[0m\u001b[0mexecute\u001b[0m\u001b[0;34m(\u001b[0m\u001b[0;34m)\u001b[0m\u001b[0;34m\u001b[0m\u001b[0;34m\u001b[0m\u001b[0m\n\u001b[0m\u001b[1;32m     41\u001b[0m \u001b[0;34m\u001b[0m\u001b[0m\n\u001b[1;32m     42\u001b[0m     \u001b[0;32mdef\u001b[0m \u001b[0mvalidate\u001b[0m\u001b[0;34m(\u001b[0m\u001b[0mself\u001b[0m\u001b[0;34m)\u001b[0m\u001b[0;34m:\u001b[0m\u001b[0;34m\u001b[0m\u001b[0;34m\u001b[0m\u001b[0m\n",
      "\u001b[0;32mlibpdalpython.pyx\u001b[0m in \u001b[0;36mpdal.libpdalpython.PyPipeline.execute\u001b[0;34m()\u001b[0m\n",
      "\u001b[0;31mRuntimeError\u001b[0m: readers.pgpointcloud: Unable to fetch pcid with column 'pa' and  table 'oakland_points'"
     ]
    }
   ],
   "source": [
    "pg_pipe.execute()"
   ]
  },
  {
   "cell_type": "code",
   "execution_count": null,
   "metadata": {},
   "outputs": [],
   "source": [
    "import laspy\n",
    "points = laspy.file.File('/home/chase/PycharmProjects/PointCloud/data/oakland_part2_ai/split.las')"
   ]
  },
  {
   "cell_type": "code",
   "execution_count": null,
   "metadata": {},
   "outputs": [],
   "source": [
    "points"
   ]
  },
  {
   "cell_type": "code",
   "execution_count": null,
   "metadata": {},
   "outputs": [],
   "source": [
    "points.points"
   ]
  },
  {
   "cell_type": "code",
   "execution_count": null,
   "metadata": {},
   "outputs": [],
   "source": [
    "def plot3d(data):\n",
    "    fig = plt.figure()\n",
    "    ax = fig.add_subplot(111, projection='3d')\n",
    "    scatter = ax.scatter(data['X'], data['Y'], data['Z'], c=data['label'])\n",
    "    legend1 = ax.legend(*scatter.legend_elements(),\n",
    "                       loc=\"lower left\")\n",
    "    ax.add_artist(legend1)\n",
    "    plt.show()points.get_raw_point(3)"
   ]
  },
  {
   "cell_type": "code",
   "execution_count": null,
   "metadata": {},
   "outputs": [],
   "source": []
  }
 ],
 "metadata": {
  "kernelspec": {
   "display_name": "Python 3",
   "language": "python",
   "name": "python3"
  },
  "language_info": {
   "codemirror_mode": {
    "name": "ipython",
    "version": 3
   },
   "file_extension": ".py",
   "mimetype": "text/x-python",
   "name": "python",
   "nbconvert_exporter": "python",
   "pygments_lexer": "ipython3",
   "version": "3.6.12"
  }
 },
 "nbformat": 4,
 "nbformat_minor": 4
}
